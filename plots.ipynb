{
 "cells": [
  {
   "cell_type": "code",
   "execution_count": 2,
   "metadata": {},
   "outputs": [],
   "source": [
    "import numpy\n",
    "import matplotlib as mpl\n",
    "import matplotlib.pyplot as pyplot\n",
    "import scienceplots\n",
    "import pandas as pd \n",
    "import numpy as np\n",
    "import random \n",
    "from datetime import datetime\n",
    "import matplotlib.ticker as ticker\n",
    "from random import randrange, uniform\n",
    "\n",
    "\n",
    "\n",
    "import json \n",
    "from numpy import loadtxt\n",
    "\n",
    "\n",
    "#mpl.rcParams['axes.spines.left'] = False\n",
    "mpl.rcParams['axes.spines.right'] = False\n",
    "mpl.rcParams['axes.spines.top'] = False\n",
    "mpl.rcParams['font.family'] = 'serif'\n",
    "#mpl.rcParams['font.sans-serif'] = 'Neue Haas Grotesk Text Pro'\n",
    "pyplot.style.use(['science','grid'])\n",
    "\n",
    "\n",
    "#pyplot.rc('text', usetex=True)\n",
    "val = 35\n",
    "width = 0.35"
   ]
  },
  {
   "attachments": {},
   "cell_type": "markdown",
   "metadata": {},
   "source": [
    "# standard pthread vs dlock"
   ]
  },
  {
   "cell_type": "code",
   "execution_count": 6,
   "metadata": {},
   "outputs": [
    {
     "data": {
      "image/png": "[encoded data removed]",
      "text/plain": [
       "<Figure size 252x189 with 1 Axes>"
      ]
     },
     "metadata": {
      "needs_background": "light"
     },
     "output_type": "display_data"
    }
   ],
   "source": [
    "dataframe = pd.read_csv(\"./expes/prelim.dat\",names=[\"cores\",\"normal\",\"custom\"],sep='\\t')\n",
    "\n",
    "f, (ax1) = pyplot.subplots(1,1)\n",
    "\n",
    "ax1.set_xlabel(\"Nb of threads\")\n",
    "ax1.set_ylabel(\"Exec. Time (s)\")\n",
    "\n",
    "threads_nb = [8,16,32,64,128]\n",
    "x = np.arange(len(threads_nb))\n",
    "\n",
    "ax1.tick_params(axis='x', which='major')\n",
    "\n",
    "ax1.xaxis.set_major_locator(ticker.FixedLocator((x)))\n",
    "ax1.xaxis.set_major_formatter(ticker.FixedFormatter((threads_nb)))\n",
    "\n",
    "\n",
    "rec1=ax1.bar(x-width/10,dataframe[\"normal\"],width,lw=2,label=\"normal\")\n",
    "rec2=ax1.bar(x-width,dataframe[\"custom\"],width,lw=2,label=\"custom\")\n",
    "\n",
    "ax1.legend(ncol=2)\n",
    "\n",
    "ax1.tick_params(axis='y', which='major')\n",
    "ax1.tick_params(axis='x', which='major')\n",
    "\n",
    "pyplot.tight_layout()\n",
    "pyplot.savefig(\"example.pdf\",format=\"pdf\",dpi=300)\n",
    "\n",
    "\n",
    "pyplot.show()\n",
    "\n"
   ]
  }
 ],
 "metadata": {
  "kernelspec": {
   "display_name": "Python 3",
   "language": "python",
   "name": "python3"
  },
  "language_info": {
   "codemirror_mode": {
    "name": "ipython",
    "version": 3
   },
   "file_extension": ".py",
   "mimetype": "text/x-python",
   "name": "python",
   "nbconvert_exporter": "python",
   "pygments_lexer": "ipython3",
   "version": "3.6.9"
  },
  "orig_nbformat": 4,
  "vscode": {
   "interpreter": {
    "hash": "0a689b40ff8b7351eca85c6ad4811030306716337ffceedcdab2bcb3fa308bf9"
   }
  }
 },
 "nbformat": 4,
 "nbformat_minor": 2
}
